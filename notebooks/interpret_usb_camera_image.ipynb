{
 "cells": [
  {
   "cell_type": "markdown",
   "metadata": {
    "lang": "en"
   },
   "source": [
    "# Import Libraries"
   ]
  },
  {
   "cell_type": "code",
   "execution_count": null,
   "metadata": {
    "ExecuteTime": {
     "end_time": "2020-02-24T04:56:50.508650Z",
     "start_time": "2020-02-24T04:56:49.701558Z"
    }
   },
   "outputs": [],
   "source": [
    "import datetime\n",
    "import logging\n",
    "import os\n",
    "\n",
    "import cv2"
   ]
  },
  {
   "cell_type": "markdown",
   "metadata": {},
   "source": [
    "# Define Constant Values"
   ]
  },
  {
   "cell_type": "markdown",
   "metadata": {
    "ExecuteTime": {
     "end_time": "2020-02-24T04:23:04.480476Z",
     "start_time": "2020-02-24T04:23:04.459589Z"
    }
   },
   "source": [
    "## for interplet key input"
   ]
  },
  {
   "cell_type": "code",
   "execution_count": null,
   "metadata": {
    "ExecuteTime": {
     "end_time": "2020-02-24T04:56:50.703195Z",
     "start_time": "2020-02-24T04:56:50.521768Z"
    }
   },
   "outputs": [],
   "source": [
    "GEN_KEYBOARD_KEY_c = \"c\"\n",
    "GEN_KEYBOARD_KEY_q = \"q\""
   ]
  },
  {
   "cell_type": "markdown",
   "metadata": {},
   "source": [
    "## for interplet key input"
   ]
  },
  {
   "cell_type": "code",
   "execution_count": null,
   "metadata": {
    "ExecuteTime": {
     "end_time": "2020-02-24T04:56:51.048963Z",
     "start_time": "2020-02-24T04:56:50.722092Z"
    }
   },
   "outputs": [],
   "source": [
    "CAP_FPS = 30\n",
    "CAP_IMAGE_WIDTH = 640\n",
    "CAP_IMAGE_HEIGHT = 360\n",
    "CAP_VIEW_WINDOW_NAME = \"Capture Image\"\n",
    "OUTPUT_FILE_EXTENSIONT = \"jpg\"\n",
    "OUTPUT_ROOT_DIRECTORY = \"data\"\n",
    "OUTPUT_FOLDER_NAME = \"{0:%Y%m%d_%H%M%S}\".format(datetime.datetime.now())\n",
    "OUTPUT_DIRECTORY = os.path.join(OUTPUT_ROOT_DIRECTORY, OUTPUT_FOLDER_NAME)\n",
    "TIME_WAIT_KEY = 1\n",
    "MASK_CV_INPUT_KEY = 0xFF"
   ]
  },
  {
   "cell_type": "markdown",
   "metadata": {},
   "source": [
    "# Define Global Valiables"
   ]
  },
  {
   "cell_type": "code",
   "execution_count": null,
   "metadata": {
    "ExecuteTime": {
     "end_time": "2020-02-24T04:56:51.089046Z",
     "start_time": "2020-02-24T04:56:51.060175Z"
    }
   },
   "outputs": [],
   "source": [
    "logger = logging.getLogger()\n",
    "logger.setLevel(logging.DEBUG)"
   ]
  },
  {
   "cell_type": "markdown",
   "metadata": {},
   "source": [
    "# Define Classies"
   ]
  },
  {
   "cell_type": "code",
   "execution_count": null,
   "metadata": {
    "ExecuteTime": {
     "end_time": "2020-02-24T04:56:51.183053Z",
     "start_time": "2020-02-24T04:56:51.123673Z"
    }
   },
   "outputs": [],
   "source": [
    "class InterpretCaptureImage:\n",
    "    def __init__(self):\n",
    "        self.cap = cv2.VideoCapture(0)\n",
    "        self.cap_num = 0\n",
    "        self.cap_frame = None\n",
    "        self.cap.set(cv2.CAP_PROP_FPS, CAP_FPS)\n",
    "        self.cap.set(cv2.CAP_PROP_FRAME_WIDTH, CAP_IMAGE_WIDTH)\n",
    "        self.cap.set(cv2.CAP_PROP_FRAME_HEIGHT, CAP_IMAGE_HEIGHT)\n",
    "        os.makedirs(OUTPUT_DIRECTORY, exist_ok=True)\n",
    "\n",
    "    def main_loop(self):\n",
    "        self.cap\n",
    "        self.cap_num\n",
    "        self.cap_frame\n",
    "\n",
    "        if not self.cap.isOpened():\n",
    "            logging.warning(\"camera device can not be connected\")\n",
    "        else:\n",
    "            while True:\n",
    "                ret, self.cap_frame = self.cap.read()\n",
    "                cv2.imshow(CAP_VIEW_WINDOW_NAME, self.cap_frame)\n",
    "                key = cv2.waitKey(TIME_WAIT_KEY) & MASK_CV_INPUT_KEY\n",
    "                if (key == ord(GEN_KEYBOARD_KEY_q)):\n",
    "                    break\n",
    "                elif key == ord(GEN_KEYBOARD_KEY_c):\n",
    "                    self.__save_capture_image()\n",
    "\n",
    "            cv2.destroyWindow(CAP_VIEW_WINDOW_NAME)\n",
    "\n",
    "    def __save_capture_image(self):\n",
    "        self.cap_num += 1\n",
    "        cv2.imwrite(\n",
    "            \"{}/{}.{}\".format(OUTPUT_DIRECTORY, self.cap_num,\n",
    "                              OUTPUT_FILE_EXTENSIONT), self.cap_frame)"
   ]
  },
  {
   "cell_type": "markdown",
   "metadata": {},
   "source": [
    "# Create Instances"
   ]
  },
  {
   "cell_type": "code",
   "execution_count": null,
   "metadata": {
    "ExecuteTime": {
     "end_time": "2020-02-24T04:56:51.777165Z",
     "start_time": "2020-02-24T04:56:51.657168Z"
    }
   },
   "outputs": [],
   "source": [
    "interpret_capture_image = InterpretCaptureImage()"
   ]
  },
  {
   "cell_type": "markdown",
   "metadata": {},
   "source": [
    "# InterpretCaptureImage and OperateBotton Functions Test"
   ]
  },
  {
   "cell_type": "code",
   "execution_count": null,
   "metadata": {
    "ExecuteTime": {
     "end_time": "2020-02-24T04:57:19.248987Z",
     "start_time": "2020-02-24T04:56:51.891631Z"
    }
   },
   "outputs": [],
   "source": [
    "interpret_capture_image.main_loop()"
   ]
  }
 ],
 "metadata": {
  "hide_input": false,
  "kernelspec": {
   "display_name": "Python 3",
   "language": "python",
   "name": "python3"
  },
  "language_info": {
   "codemirror_mode": {
    "name": "ipython",
    "version": 3
   },
   "file_extension": ".py",
   "mimetype": "text/x-python",
   "name": "python",
   "nbconvert_exporter": "python",
   "pygments_lexer": "ipython3",
   "version": "3.7.3"
  },
  "nbTranslate": {
   "displayLangs": [
    "*"
   ],
   "hotkey": "alt-t",
   "langInMainMenu": true,
   "sourceLang": "en",
   "targetLang": "fr",
   "useGoogleTranslate": true
  },
  "toc": {
   "base_numbering": 1,
   "nav_menu": {},
   "number_sections": true,
   "sideBar": true,
   "skip_h1_title": false,
   "title_cell": "Table of Contents",
   "title_sidebar": "Contents",
   "toc_cell": false,
   "toc_position": {},
   "toc_section_display": true,
   "toc_window_display": false
  },
  "varInspector": {
   "cols": {
    "lenName": 16,
    "lenType": 16,
    "lenVar": 40
   },
   "kernels_config": {
    "python": {
     "delete_cmd_postfix": "",
     "delete_cmd_prefix": "del ",
     "library": "var_list.py",
     "varRefreshCmd": "print(var_dic_list())"
    },
    "r": {
     "delete_cmd_postfix": ") ",
     "delete_cmd_prefix": "rm(",
     "library": "var_list.r",
     "varRefreshCmd": "cat(var_dic_list()) "
    }
   },
   "types_to_exclude": [
    "module",
    "function",
    "builtin_function_or_method",
    "instance",
    "_Feature"
   ],
   "window_display": false
  }
 },
 "nbformat": 4,
 "nbformat_minor": 2
}
