{
 "cells": [
  {
   "cell_type": "markdown",
   "metadata": {},
   "source": [
    "# import Libraries path setting"
   ]
  },
  {
   "cell_type": "code",
   "execution_count": null,
   "metadata": {
    "ExecuteTime": {
     "end_time": "2020-02-09T07:24:49.764395Z",
     "start_time": "2020-02-09T07:24:49.745466Z"
    }
   },
   "outputs": [],
   "source": [
    "import sys\n",
    "\n",
    "sys.path.append('../libs')"
   ]
  },
  {
   "cell_type": "markdown",
   "metadata": {},
   "source": [
    "# Import Libraries"
   ]
  },
  {
   "cell_type": "code",
   "execution_count": null,
   "metadata": {
    "ExecuteTime": {
     "end_time": "2020-02-09T07:24:50.257006Z",
     "start_time": "2020-02-09T07:24:50.232295Z"
    }
   },
   "outputs": [],
   "source": [
    "from enum import IntEnum\n",
    "from time import sleep\n",
    "\n",
    "from PCA9685 import PCA9685"
   ]
  },
  {
   "cell_type": "markdown",
   "metadata": {},
   "source": [
    "# Define Constant Values"
   ]
  },
  {
   "cell_type": "code",
   "execution_count": null,
   "metadata": {
    "ExecuteTime": {
     "end_time": "2020-02-09T07:24:51.283538Z",
     "start_time": "2020-02-09T07:24:51.261933Z"
    }
   },
   "outputs": [],
   "source": [
    "class MotorName(IntEnum):\n",
    "    A = 0\n",
    "    B = 1\n",
    "    NO_DEFINITION = 2"
   ]
  },
  {
   "cell_type": "code",
   "execution_count": null,
   "metadata": {
    "ExecuteTime": {
     "end_time": "2020-02-09T07:24:52.142023Z",
     "start_time": "2020-02-09T07:24:52.121198Z"
    }
   },
   "outputs": [],
   "source": [
    "class RotateDirection(IntEnum):\n",
    "    FORWARD = 0\n",
    "    BACKWARD = 1"
   ]
  },
  {
   "cell_type": "markdown",
   "metadata": {},
   "source": [
    "# Define Classies"
   ]
  },
  {
   "cell_type": "code",
   "execution_count": null,
   "metadata": {
    "ExecuteTime": {
     "end_time": "2020-02-09T07:24:53.769871Z",
     "start_time": "2020-02-09T07:24:53.672163Z"
    }
   },
   "outputs": [],
   "source": [
    "class MotorDriver():\n",
    "    def __init__(self):\n",
    "        self.PWMA = 0\n",
    "        self.AIN1 = 1\n",
    "        self.AIN2 = 2\n",
    "        self.PWMB = 5\n",
    "        self.BIN1 = 3\n",
    "        self.BIN2 = 4\n",
    "        self.pwm = PCA9685(0x40, debug=False)\n",
    "        self.pwm.setPWMFreq(50)\n",
    "        self.MIN_DUTY_RATIO = 0\n",
    "        self.MAX_DUTY_RATIO = 100\n",
    "\n",
    "    def MotorRun(self, motor, direction, duty_ratio):\n",
    "        if (duty_ratio < self.MIN_DUTY_RATIO)\\\n",
    "                and (duty_ratio > self.MAX_DUTY_RATIO):\n",
    "            logging.warning(\"specify invalid duty ratio(%s)\" %\n",
    "                            (str(duty_ratio)))\n",
    "            return\n",
    "        if motor == MotorName.A:\n",
    "            self.pwm.setDutycycle(self.PWMA, duty_ratio)\n",
    "            if direction == RotateDirection.FORWARD:\n",
    "                self.pwm.setLevel(self.AIN1, 0)\n",
    "                self.pwm.setLevel(self.AIN2, 1)\n",
    "            elif direction == RotateDirection.BACKWARD:\n",
    "                self.pwm.setLevel(self.AIN1, 1)\n",
    "                self.pwm.setLevel(self.AIN2, 0)\n",
    "            else:\n",
    "                logging.warning(\"specify invalid rotate directoin(%s)\" %\n",
    "                                (str(direction)))\n",
    "                self.pwm.setDutycycle(self.PWMA, 0)\n",
    "        elif motor == MotorName.B:\n",
    "            self.pwm.setDutycycle(self.PWMB, duty_ratio)\n",
    "            if (direction == RotateDirection.FORWARD):\n",
    "                self.pwm.setLevel(self.BIN1, 0)\n",
    "                self.pwm.setLevel(self.BIN2, 1)\n",
    "            elif direction == RotateDirection.BACKWARD:\n",
    "                self.pwm.setLevel(self.BIN1, 1)\n",
    "                self.pwm.setLevel(self.BIN2, 0)\n",
    "            else:\n",
    "                logging.warning(\"specify invalid rotate directoin(%s)\" %\n",
    "                                (str(direction)))\n",
    "                self.pwm.setDutycycle(self.PWMB, 0)\n",
    "        else:\n",
    "            logging.warning(\"specify invalid motor name(%s)\" % (str(motor)))\n",
    "\n",
    "    def MotorStop(self, motor):\n",
    "        if motor == MotorName.A:\n",
    "            self.pwm.setDutycycle(self.PWMA, 0)\n",
    "        elif motor == MotorName.B:\n",
    "            self.pwm.setDutycycle(self.PWMB, 0)\n",
    "        else:\n",
    "            logging.warning(\"specify invalid motor name(%s)\" % (str(motor)))"
   ]
  },
  {
   "cell_type": "markdown",
   "metadata": {},
   "source": [
    "# Create Instance"
   ]
  },
  {
   "cell_type": "code",
   "execution_count": null,
   "metadata": {
    "ExecuteTime": {
     "end_time": "2020-02-09T07:24:55.431537Z",
     "start_time": "2020-02-09T07:24:55.408686Z"
    }
   },
   "outputs": [],
   "source": [
    "Motor = MotorDriver()"
   ]
  },
  {
   "cell_type": "markdown",
   "metadata": {},
   "source": [
    "# MotorDriver Functions Test"
   ]
  },
  {
   "cell_type": "markdown",
   "metadata": {},
   "source": [
    "## MotorRun"
   ]
  },
  {
   "cell_type": "code",
   "execution_count": null,
   "metadata": {
    "ExecuteTime": {
     "start_time": "2020-02-09T07:20:08.202Z"
    }
   },
   "outputs": [],
   "source": [
    "speed = 1\n",
    "while speed < 100:\n",
    "    Motor.MotorRun(MotorName.A, RotateDirection.FORWARD, speed)\n",
    "    Motor.MotorRun(MotorName.B, RotateDirection.FORWARD, speed)\n",
    "    speed += 1\n",
    "    sleep(0.5)\n",
    "\n",
    "while speed >= 0:\n",
    "    Motor.MotorRun(MotorName.A, RotateDirection.BACKWARD, speed)\n",
    "    Motor.MotorRun(MotorName.B, RotateDirection.BACKWARD, speed)\n",
    "    speed -= 1\n",
    "    sleep(0.5)"
   ]
  },
  {
   "cell_type": "markdown",
   "metadata": {},
   "source": [
    "## MotorStop"
   ]
  },
  {
   "cell_type": "code",
   "execution_count": null,
   "metadata": {
    "ExecuteTime": {
     "end_time": "2020-02-09T07:25:20.100031Z",
     "start_time": "2020-02-09T07:25:20.063788Z"
    }
   },
   "outputs": [],
   "source": [
    "Motor.MotorStop(MotorName.A)\n",
    "Motor.MotorStop(MotorName.B)"
   ]
  },
  {
   "cell_type": "code",
   "execution_count": null,
   "metadata": {},
   "outputs": [],
   "source": []
  }
 ],
 "metadata": {
  "hide_input": false,
  "kernelspec": {
   "display_name": "Python 3",
   "language": "python",
   "name": "python3"
  },
  "language_info": {
   "codemirror_mode": {
    "name": "ipython",
    "version": 3
   },
   "file_extension": ".py",
   "mimetype": "text/x-python",
   "name": "python",
   "nbconvert_exporter": "python",
   "pygments_lexer": "ipython3",
   "version": "3.7.3"
  },
  "nbTranslate": {
   "displayLangs": [
    "*"
   ],
   "hotkey": "alt-t",
   "langInMainMenu": true,
   "sourceLang": "en",
   "targetLang": "fr",
   "useGoogleTranslate": true
  },
  "toc": {
   "base_numbering": 1,
   "nav_menu": {},
   "number_sections": true,
   "sideBar": true,
   "skip_h1_title": false,
   "title_cell": "Table of Contents",
   "title_sidebar": "Contents",
   "toc_cell": false,
   "toc_position": {},
   "toc_section_display": true,
   "toc_window_display": true
  },
  "varInspector": {
   "cols": {
    "lenName": 16,
    "lenType": 16,
    "lenVar": 40
   },
   "kernels_config": {
    "python": {
     "delete_cmd_postfix": "",
     "delete_cmd_prefix": "del ",
     "library": "var_list.py",
     "varRefreshCmd": "print(var_dic_list())"
    },
    "r": {
     "delete_cmd_postfix": ") ",
     "delete_cmd_prefix": "rm(",
     "library": "var_list.r",
     "varRefreshCmd": "cat(var_dic_list()) "
    }
   },
   "types_to_exclude": [
    "module",
    "function",
    "builtin_function_or_method",
    "instance",
    "_Feature"
   ],
   "window_display": false
  }
 },
 "nbformat": 4,
 "nbformat_minor": 2
}
