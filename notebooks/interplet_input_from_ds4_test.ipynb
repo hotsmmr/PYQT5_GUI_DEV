{
 "cells": [
  {
   "cell_type": "markdown",
   "metadata": {},
   "source": [
    "# Import Libraries"
   ]
  },
  {
   "cell_type": "code",
   "execution_count": null,
   "metadata": {
    "ExecuteTime": {
     "end_time": "2020-02-16T02:45:22.925649Z",
     "start_time": "2020-02-16T02:45:21.241872Z"
    }
   },
   "outputs": [],
   "source": [
    "import logging\n",
    "import sys\n",
    "from enum import IntEnum\n",
    "from time import sleep\n",
    "\n",
    "import pygame\n",
    "from pygame.locals import *"
   ]
  },
  {
   "cell_type": "markdown",
   "metadata": {},
   "source": [
    "# Define Constant Values"
   ]
  },
  {
   "cell_type": "code",
   "execution_count": null,
   "metadata": {
    "ExecuteTime": {
     "end_time": "2020-02-16T02:45:22.976628Z",
     "start_time": "2020-02-16T02:45:22.940065Z"
    }
   },
   "outputs": [],
   "source": [
    "class Ds4BottonKey(IntEnum):\n",
    "    BOTTON_SQUARE = 0\n",
    "    BOTTON_X = 1\n",
    "    BOTTON_CIRCLE = 2\n",
    "    BOTTON_TRIANGLE = 3\n",
    "    BOTTON_L1 = 4\n",
    "    BOTTON_R1 = 5\n",
    "    BOTTON_L2 = 6\n",
    "    BOTTON_R2 = 7\n",
    "    BOTTON_SHARE = 8\n",
    "    BOTTON_OPTIONS = 9\n",
    "    BOTTON_LEFT_ANALOG = 10\n",
    "    BOTTON_RIGHT_ANALOG = 11\n",
    "    BOTTON_PS4_ON = 12\n",
    "    BOTTON_TOUCHPAD = 13\n",
    "    NO_DEFINITION = 14"
   ]
  },
  {
   "cell_type": "code",
   "execution_count": null,
   "metadata": {
    "ExecuteTime": {
     "end_time": "2020-02-16T02:45:23.026816Z",
     "start_time": "2020-02-16T02:45:22.998552Z"
    }
   },
   "outputs": [],
   "source": [
    "class BottonStatus(IntEnum):\n",
    "    PRESS = 0\n",
    "    RELEASE = 1\n",
    "    NO_DEFINITION = 2"
   ]
  },
  {
   "cell_type": "markdown",
   "metadata": {
    "ExecuteTime": {
     "end_time": "2020-02-16T02:26:48.092593Z",
     "start_time": "2020-02-16T02:26:48.076193Z"
    }
   },
   "source": [
    "# Define Global Valiables"
   ]
  },
  {
   "cell_type": "code",
   "execution_count": null,
   "metadata": {
    "ExecuteTime": {
     "end_time": "2020-02-16T02:45:23.074650Z",
     "start_time": "2020-02-16T02:45:23.044930Z"
    }
   },
   "outputs": [],
   "source": [
    "logger = logging.getLogger()\n",
    "logger.setLevel(logging.DEBUG)"
   ]
  },
  {
   "cell_type": "code",
   "execution_count": null,
   "metadata": {
    "ExecuteTime": {
     "end_time": "2020-02-16T02:45:23.128477Z",
     "start_time": "2020-02-16T02:45:23.099916Z"
    }
   },
   "outputs": [],
   "source": [
    "current_botton = Ds4BottonKey.NO_DEFINITION\n",
    "previous_botton = Ds4BottonKey.NO_DEFINITION\n",
    "released_botton = Ds4BottonKey.NO_DEFINITION\n",
    "botton_status = BottonStatus.NO_DEFINITION\n",
    "previous_botton_status = BottonStatus.NO_DEFINITION"
   ]
  },
  {
   "cell_type": "markdown",
   "metadata": {},
   "source": [
    "# Define Classies"
   ]
  },
  {
   "cell_type": "code",
   "execution_count": null,
   "metadata": {
    "ExecuteTime": {
     "end_time": "2020-02-16T02:45:23.381284Z",
     "start_time": "2020-02-16T02:45:23.292339Z"
    }
   },
   "outputs": [],
   "source": [
    "class InterpretGamePad():\n",
    "    def __init__(self):\n",
    "        self.current_botton = Ds4BottonKey.NO_DEFINITION\n",
    "        self.released_botton = Ds4BottonKey.NO_DEFINITION\n",
    "        self.botton_status = BottonStatus.NO_DEFINITION\n",
    "        self.joy_stick = None\n",
    "\n",
    "        self.__init_pygame()\n",
    "\n",
    "    def get_current_botton_info(self):\n",
    "        return (self.current_botton, self.released_botton, self.botton_status)\n",
    "\n",
    "    def interpret_current_event(self):\n",
    "        events = pygame.event.get()\n",
    "        for event in events:\n",
    "            if event.type == pygame.locals.JOYBUTTONDOWN:\n",
    "                self.current_botton = self.__interpret_current_botton()\n",
    "                self.botton_status = BottonStatus.PRESS\n",
    "            elif event.type == pygame.locals.JOYBUTTONUP:\n",
    "                self.released_botton = self.current_botton\n",
    "                current_botton = Ds4BottonKey.NO_DEFINITION\n",
    "                self.botton_status = BottonStatus.RELEASE\n",
    "            else:\n",
    "                current_botton = Ds4BottonKey.NO_DEFINITION\n",
    "                self.released_botton = Ds4BottonKey.NO_DEFINITION\n",
    "                self.botton_status = BottonStatus.NO_DEFINITION\n",
    "                \n",
    "    def release_pygame(self):\n",
    "        pygame.joystick.quit()\n",
    "        pygame.quit()\n",
    "        \n",
    "    def __init_pygame(self):\n",
    "        pygame.init()\n",
    "        try:\n",
    "            self.joy_stick = pygame.joystick.Joystick(0)\n",
    "            self.joy_stick.init()\n",
    "            logging.debug(\"joystick name -> %s\" % (self.joy_stick.get_name()))\n",
    "            logging.debug(\"joystick total botton num -> %s\" %\n",
    "                          (str(self.joy_stick.get_numbuttons())))\n",
    "        except pygame.error:\n",
    "            logging.warning(\"joystick not found\")\n",
    "\n",
    "    def __interpret_current_botton(self):\n",
    "        return_botton = Ds4BottonKey.BOTTON_SQUARE\n",
    "        while return_botton < Ds4BottonKey.NO_DEFINITION:\n",
    "            if self.joy_stick.get_button(return_botton):\n",
    "                break\n",
    "            return_botton += 1\n",
    "        return return_botton"
   ]
  },
  {
   "cell_type": "code",
   "execution_count": null,
   "metadata": {
    "ExecuteTime": {
     "end_time": "2020-02-16T02:45:23.803684Z",
     "start_time": "2020-02-16T02:45:23.764768Z"
    }
   },
   "outputs": [],
   "source": [
    "class OperateBotton:\n",
    "    def __init__(self):\n",
    "        self.class_name = self.__class__.__name__\n",
    "        logging.debug(\"Class(%s) init\" % (self.class_name))\n",
    "\n",
    "    def press_botton(self):\n",
    "        logging.debug(\"%s.%s called\" %\n",
    "                      (self.class_name, sys._getframe().f_code.co_name))\n",
    "\n",
    "    def release_botton(self):\n",
    "        logging.debug(\"%s.%s called\" %\n",
    "                      (self.class_name, sys._getframe().f_code.co_name))"
   ]
  },
  {
   "cell_type": "code",
   "execution_count": null,
   "metadata": {
    "ExecuteTime": {
     "end_time": "2020-02-16T02:45:24.306637Z",
     "start_time": "2020-02-16T02:45:24.077421Z"
    }
   },
   "outputs": [],
   "source": [
    "class OperateBottonSquare(OperateBotton):\n",
    "    def __init__(self):\n",
    "        super().__init__()\n",
    "        \n",
    "    def press_botton(self):\n",
    "        super().press_botton()\n",
    "              \n",
    "    def release_botton(self):\n",
    "        super().release_botton()"
   ]
  },
  {
   "cell_type": "code",
   "execution_count": null,
   "metadata": {
    "ExecuteTime": {
     "end_time": "2020-02-16T02:45:26.160764Z",
     "start_time": "2020-02-16T02:45:24.388090Z"
    }
   },
   "outputs": [],
   "source": [
    "class OperateBottonX(OperateBotton):\n",
    "    def __init__(self):\n",
    "        super().__init__()\n",
    "        \n",
    "    def press_botton(self):\n",
    "        super().press_botton()\n",
    "              \n",
    "    def release_botton(self):\n",
    "        super().release_botton()"
   ]
  },
  {
   "cell_type": "code",
   "execution_count": null,
   "metadata": {
    "ExecuteTime": {
     "end_time": "2020-02-16T02:45:26.465127Z",
     "start_time": "2020-02-16T02:45:26.178733Z"
    }
   },
   "outputs": [],
   "source": [
    "class OperateBottonCircle(OperateBotton):\n",
    "    def __init__(self):\n",
    "        super().__init__()\n",
    "        \n",
    "    def press_botton(self):\n",
    "        super().press_botton()\n",
    "              \n",
    "    def release_botton(self):\n",
    "        super().release_botton()"
   ]
  },
  {
   "cell_type": "code",
   "execution_count": null,
   "metadata": {
    "ExecuteTime": {
     "end_time": "2020-02-16T02:45:26.531328Z",
     "start_time": "2020-02-16T02:45:26.496799Z"
    }
   },
   "outputs": [],
   "source": [
    "class OperateBottonTriangle(OperateBotton):\n",
    "    def __init__(self):\n",
    "        super().__init__()\n",
    "        \n",
    "    def press_botton(self):\n",
    "        super().press_botton()\n",
    "              \n",
    "    def release_botton(self):\n",
    "        super().release_botton()"
   ]
  },
  {
   "cell_type": "code",
   "execution_count": null,
   "metadata": {
    "ExecuteTime": {
     "end_time": "2020-02-16T02:45:26.600949Z",
     "start_time": "2020-02-16T02:45:26.547025Z"
    }
   },
   "outputs": [],
   "source": [
    "class OperateBottonL1(OperateBotton):\n",
    "    def __init__(self):\n",
    "        super().__init__()\n",
    "        \n",
    "    def press_botton(self):\n",
    "        super().press_botton()\n",
    "              \n",
    "    def release_botton(self):\n",
    "        super().release_botton()"
   ]
  },
  {
   "cell_type": "code",
   "execution_count": null,
   "metadata": {
    "ExecuteTime": {
     "end_time": "2020-02-16T02:45:26.653414Z",
     "start_time": "2020-02-16T02:45:26.616341Z"
    }
   },
   "outputs": [],
   "source": [
    "class OperateBottonR1(OperateBotton):\n",
    "    def __init__(self):\n",
    "        super().__init__()\n",
    "        \n",
    "    def press_botton(self):\n",
    "        super().press_botton()\n",
    "              \n",
    "    def release_botton(self):\n",
    "        super().release_botton()"
   ]
  },
  {
   "cell_type": "code",
   "execution_count": null,
   "metadata": {
    "ExecuteTime": {
     "end_time": "2020-02-16T02:45:26.956664Z",
     "start_time": "2020-02-16T02:45:26.668091Z"
    }
   },
   "outputs": [],
   "source": [
    "class OperateBottonL2(OperateBotton):\n",
    "    def __init__(self):\n",
    "        super().__init__()\n",
    "        \n",
    "    def press_botton(self):\n",
    "        super().press_botton()\n",
    "              \n",
    "    def release_botton(self):\n",
    "        super().release_botton()"
   ]
  },
  {
   "cell_type": "code",
   "execution_count": null,
   "metadata": {
    "ExecuteTime": {
     "end_time": "2020-02-16T02:45:27.281525Z",
     "start_time": "2020-02-16T02:45:26.976090Z"
    }
   },
   "outputs": [],
   "source": [
    "class OperateBottonR2(OperateBotton):\n",
    "    def __init__(self):\n",
    "        super().__init__()\n",
    "        \n",
    "    def press_botton(self):\n",
    "        super().press_botton()\n",
    "              \n",
    "    def release_botton(self):\n",
    "        super().release_botton()"
   ]
  },
  {
   "cell_type": "code",
   "execution_count": null,
   "metadata": {
    "ExecuteTime": {
     "end_time": "2020-02-16T02:45:27.369483Z",
     "start_time": "2020-02-16T02:45:27.321174Z"
    }
   },
   "outputs": [],
   "source": [
    "class OperateBottonShare(OperateBotton):\n",
    "    def __init__(self):\n",
    "        super().__init__()\n",
    "        \n",
    "    def press_botton(self):\n",
    "        super().press_botton()\n",
    "              \n",
    "    def release_botton(self):\n",
    "        super().release_botton()"
   ]
  },
  {
   "cell_type": "code",
   "execution_count": null,
   "metadata": {
    "ExecuteTime": {
     "end_time": "2020-02-16T02:45:27.455760Z",
     "start_time": "2020-02-16T02:45:27.401107Z"
    }
   },
   "outputs": [],
   "source": [
    "class OperateBottonOptions(OperateBotton): \n",
    "    def __init__(self):\n",
    "        super().__init__()\n",
    "        \n",
    "    def press_botton(self):\n",
    "        super().press_botton()\n",
    "              \n",
    "    def release_botton(self):\n",
    "        super().release_botton()"
   ]
  },
  {
   "cell_type": "code",
   "execution_count": null,
   "metadata": {
    "ExecuteTime": {
     "end_time": "2020-02-16T02:45:27.559694Z",
     "start_time": "2020-02-16T02:45:27.481876Z"
    }
   },
   "outputs": [],
   "source": [
    "class OperateBottonLeftAnalog(OperateBotton):\n",
    "    def __init__(self):\n",
    "        super().__init__()\n",
    "        \n",
    "    def press_botton(self):\n",
    "        super().press_botton()\n",
    "              \n",
    "    def release_botton(self):\n",
    "        super().release_botton()"
   ]
  },
  {
   "cell_type": "code",
   "execution_count": null,
   "metadata": {
    "ExecuteTime": {
     "end_time": "2020-02-16T02:45:28.386323Z",
     "start_time": "2020-02-16T02:45:27.761144Z"
    }
   },
   "outputs": [],
   "source": [
    "class OperateBottonRightAnalog(OperateBotton):\n",
    "    def __init__(self):\n",
    "        super().__init__()\n",
    "        \n",
    "    def press_botton(self):\n",
    "        super().press_botton()\n",
    "              \n",
    "    def release_botton(self):\n",
    "        super().release_botton()"
   ]
  },
  {
   "cell_type": "code",
   "execution_count": null,
   "metadata": {
    "ExecuteTime": {
     "end_time": "2020-02-16T02:45:28.674171Z",
     "start_time": "2020-02-16T02:45:28.420823Z"
    }
   },
   "outputs": [],
   "source": [
    "class OperateBottonPs4On(OperateBotton):\n",
    "    def __init__(self):\n",
    "        super().__init__()\n",
    "        \n",
    "    def press_botton(self):\n",
    "        super().press_botton()\n",
    "              \n",
    "    def release_botton(self):\n",
    "        super().release_botton()"
   ]
  },
  {
   "cell_type": "code",
   "execution_count": null,
   "metadata": {
    "ExecuteTime": {
     "end_time": "2020-02-16T02:45:29.247539Z",
     "start_time": "2020-02-16T02:45:28.739857Z"
    }
   },
   "outputs": [],
   "source": [
    "class OperateBottonTouchPad(OperateBotton):\n",
    "    def __init__(self):\n",
    "        super().__init__()\n",
    "        \n",
    "    def press_botton(self):\n",
    "        super().press_botton()\n",
    "              \n",
    "    def release_botton(self):\n",
    "        super().release_botton()"
   ]
  },
  {
   "cell_type": "code",
   "execution_count": null,
   "metadata": {
    "ExecuteTime": {
     "end_time": "2020-02-16T02:45:29.562666Z",
     "start_time": "2020-02-16T02:45:29.282491Z"
    }
   },
   "outputs": [],
   "source": [
    "class OperateBottonNoDefinition(OperateBotton):\n",
    "    def __init__(self):\n",
    "        super().__init__()\n",
    "\n",
    "    def press_botton(self):\n",
    "        super().press_botton()\n",
    "\n",
    "    def release_botton(self):\n",
    "        super().release_botton()"
   ]
  },
  {
   "cell_type": "markdown",
   "metadata": {},
   "source": [
    "# Create Instances"
   ]
  },
  {
   "cell_type": "code",
   "execution_count": null,
   "metadata": {
    "ExecuteTime": {
     "end_time": "2020-02-16T02:45:30.832649Z",
     "start_time": "2020-02-16T02:45:29.886649Z"
    }
   },
   "outputs": [],
   "source": [
    "interpret_game_pad = InterpretGamePad()"
   ]
  },
  {
   "cell_type": "code",
   "execution_count": null,
   "metadata": {
    "ExecuteTime": {
     "end_time": "2020-02-16T02:45:31.422901Z",
     "start_time": "2020-02-16T02:45:30.853168Z"
    }
   },
   "outputs": [],
   "source": [
    "array_press_botton = [\n",
    "    OperateBottonSquare(),\n",
    "    OperateBottonX(),\n",
    "    OperateBottonCircle(),\n",
    "    OperateBottonTriangle(),\n",
    "    OperateBottonL1(),\n",
    "    OperateBottonR1(),\n",
    "    OperateBottonL2(),\n",
    "    OperateBottonR2(),\n",
    "    OperateBottonShare(),\n",
    "    OperateBottonOptions(),\n",
    "    OperateBottonLeftAnalog(),\n",
    "    OperateBottonRightAnalog(),\n",
    "    OperateBottonPs4On(),\n",
    "    OperateBottonTouchPad(),\n",
    "    OperateBottonNoDefinition()\n",
    "]"
   ]
  },
  {
   "cell_type": "markdown",
   "metadata": {},
   "source": [
    "# InterpretGamePad and OperateBotton Functions Test"
   ]
  },
  {
   "cell_type": "code",
   "execution_count": null,
   "metadata": {
    "ExecuteTime": {
     "end_time": "2020-02-16T02:45:53.592225Z",
     "start_time": "2020-02-16T02:45:31.443846Z"
    }
   },
   "outputs": [],
   "source": [
    "while True:\n",
    "    interpret_game_pad.interpret_current_event()\n",
    "    current_botton, released_botton, botton_status\\\n",
    "    = interpret_game_pad.get_current_botton_info()\n",
    "    if (previous_botton == current_botton)\\\n",
    "        and (previous_botton_status == botton_status):\n",
    "        continue\n",
    "    if botton_status == BottonStatus.PRESS:\n",
    "        if current_botton < Ds4BottonKey.NO_DEFINITION:\n",
    "            array_press_botton[current_botton].press_botton()\n",
    "        else:\n",
    "            logging.warning(\"press invalid botton(%s)\" %\n",
    "                            (str(current_botton)))\n",
    "    elif botton_status == BottonStatus.RELEASE:\n",
    "        if released_botton < Ds4BottonKey.NO_DEFINITION:\n",
    "            array_press_botton[released_botton].release_botton()\n",
    "        else:\n",
    "            logging.warning(\"release invalid botton(%s)\" %\n",
    "                            (str(current_botton)))\n",
    "    sleep(0.01)\n",
    "    if current_botton == Ds4BottonKey.BOTTON_PS4_ON:\n",
    "        logging.warning(\"press interrupt key\")\n",
    "        break\n",
    "    previous_botton = current_botton\n",
    "    previous_botton_status = botton_status"
   ]
  },
  {
   "cell_type": "markdown",
   "metadata": {
    "ExecuteTime": {
     "end_time": "2020-02-16T02:49:54.142633Z",
     "start_time": "2020-02-16T02:49:54.130265Z"
    }
   },
   "source": [
    "# Post Process"
   ]
  },
  {
   "cell_type": "code",
   "execution_count": null,
   "metadata": {
    "ExecuteTime": {
     "end_time": "2020-02-16T02:45:54.169884Z",
     "start_time": "2020-02-16T02:45:53.614955Z"
    }
   },
   "outputs": [],
   "source": [
    "interpret_game_pad.release_pygame()"
   ]
  },
  {
   "cell_type": "code",
   "execution_count": null,
   "metadata": {},
   "outputs": [],
   "source": []
  }
 ],
 "metadata": {
  "hide_input": false,
  "kernelspec": {
   "display_name": "Python 3",
   "language": "python",
   "name": "python3"
  },
  "language_info": {
   "codemirror_mode": {
    "name": "ipython",
    "version": 3
   },
   "file_extension": ".py",
   "mimetype": "text/x-python",
   "name": "python",
   "nbconvert_exporter": "python",
   "pygments_lexer": "ipython3",
   "version": "3.7.3"
  },
  "nbTranslate": {
   "displayLangs": [
    "*"
   ],
   "hotkey": "alt-t",
   "langInMainMenu": true,
   "sourceLang": "en",
   "targetLang": "fr",
   "useGoogleTranslate": true
  },
  "toc": {
   "base_numbering": 1,
   "nav_menu": {},
   "number_sections": true,
   "sideBar": true,
   "skip_h1_title": false,
   "title_cell": "Table of Contents",
   "title_sidebar": "Contents",
   "toc_cell": false,
   "toc_position": {},
   "toc_section_display": true,
   "toc_window_display": false
  },
  "varInspector": {
   "cols": {
    "lenName": 16,
    "lenType": 16,
    "lenVar": 40
   },
   "kernels_config": {
    "python": {
     "delete_cmd_postfix": "",
     "delete_cmd_prefix": "del ",
     "library": "var_list.py",
     "varRefreshCmd": "print(var_dic_list())"
    },
    "r": {
     "delete_cmd_postfix": ") ",
     "delete_cmd_prefix": "rm(",
     "library": "var_list.r",
     "varRefreshCmd": "cat(var_dic_list()) "
    }
   },
   "types_to_exclude": [
    "module",
    "function",
    "builtin_function_or_method",
    "instance",
    "_Feature"
   ],
   "window_display": false
  }
 },
 "nbformat": 4,
 "nbformat_minor": 2
}
